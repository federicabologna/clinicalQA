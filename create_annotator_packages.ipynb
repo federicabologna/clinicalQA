{
 "cells": [
  {
   "cell_type": "code",
   "execution_count": 1,
   "metadata": {},
   "outputs": [
    {
     "name": "stdout",
     "output_type": "stream",
     "text": [
      "Intel MKL WARNING: Support of Intel(R) Streaming SIMD Extensions 4.2 (Intel(R) SSE4.2) enabled only processors has been deprecated. Intel oneAPI Math Kernel Library 2025.0 will require Intel(R) Advanced Vector Extensions (Intel(R) AVX) instructions.\n",
      "Intel MKL WARNING: Support of Intel(R) Streaming SIMD Extensions 4.2 (Intel(R) SSE4.2) enabled only processors has been deprecated. Intel oneAPI Math Kernel Library 2025.0 will require Intel(R) Advanced Vector Extensions (Intel(R) AVX) instructions.\n"
     ]
    }
   ],
   "source": [
    "# Imports\n",
    "import os\n",
    "import json\n",
    "import csv\n",
    "import random\n",
    "import spacy"
   ]
  },
  {
   "cell_type": "code",
   "execution_count": 2,
   "metadata": {},
   "outputs": [],
   "source": [
    "dir = os.getcwd()\n",
    "data_dir = os.path.join(dir, 'data')\n",
    "os.makedirs(data_dir, exist_ok=True)\n",
    "output_dir = os.path.join(dir, 'output')\n",
    "os.makedirs(output_dir, exist_ok=True)"
   ]
  },
  {
   "cell_type": "code",
   "execution_count": 3,
   "metadata": {},
   "outputs": [
    {
     "data": {
      "text/plain": [
       "['Annotator1',\n",
       " 'Annotator6',\n",
       " 'Annotator2',\n",
       " 'Annotator3',\n",
       " 'Annotator4',\n",
       " 'Annotator5']"
      ]
     },
     "execution_count": 3,
     "metadata": {},
     "output_type": "execute_result"
    }
   ],
   "source": [
    "random.seed(17)\n",
    "\n",
    "annotators = [f\"Annotator{i+1}\" for i in range(6)]\n",
    "random.shuffle(annotators)\n",
    "annotators"
   ]
  },
  {
   "cell_type": "code",
   "execution_count": 4,
   "metadata": {},
   "outputs": [],
   "source": [
    "# annotator 1 package:\n",
    "\n",
    "# gpt4 [0:50] fine\n",
    "# llama [50:100] fine\n",
    "# physician [0:50] fine\n",
    "# gpt4 [50:100] coarse\n",
    "# llama [0:50] coarse\n",
    "# physician [50:100] coarse"
   ]
  },
  {
   "cell_type": "code",
   "execution_count": 5,
   "metadata": {},
   "outputs": [],
   "source": [
    "indexes_dict_0 = {'coarse': {'gpt4': [0,50], 'llama': [50,100], 'physician': [0,50]},\n",
    "                 'fine': {'gpt4': [50,100], 'llama': [0,50], 'physician': [50,100]}}\n",
    "\n",
    "indexes_dict_1 = {'coarse': {'gpt4': [50,100], 'llama': [0,50], 'physician': [50,100]},\n",
    "                 'fine': {'gpt4': [0,50], 'llama': [50,100], 'physician': [0,50]}} \n",
    "    "
   ]
  },
  {
   "cell_type": "code",
   "execution_count": 6,
   "metadata": {},
   "outputs": [
    {
     "name": "stdout",
     "output_type": "stream",
     "text": [
      "(0, \":orange[This is the first sentence.] Here's the second one! Is this the third sentence? Yes, it is.\")\n",
      "(1, \"This is the first sentence. :orange[Here's the second one!] Is this the third sentence? Yes, it is.\")\n",
      "(2, \"This is the first sentence. Here's the second one! :orange[Is this the third sentence?] Yes, it is.\")\n",
      "(3, \"This is the first sentence. Here's the second one! Is this the third sentence? :orange[Yes, it is.]\")\n"
     ]
    }
   ],
   "source": [
    "def bold_sentences(text):\n",
    "    \n",
    "    # Load the spaCy English model\n",
    "    nlp = spacy.load(\"en_core_web_sm\")\n",
    "    # Process the text with spaCy to segment into sentences\n",
    "    doc = nlp(text)\n",
    "    sentences = [sentence.text for sentence in doc.sents]\n",
    "    fine_sentences = []\n",
    "    for bold_index in range(len(sentences)):\n",
    "        bold_sentence = f':orange[{sentences[bold_index]}]'\n",
    "        new_sentences = sentences[:bold_index] + [bold_sentence] + sentences[bold_index + 1:]\n",
    "        fine_sentence = ' '.join(new_sentences)\n",
    "        fine_sentences.append((bold_index, fine_sentence))\n",
    "    \n",
    "    return fine_sentences\n",
    "\n",
    "# Example text\n",
    "text = \"\"\"This is the first sentence. Here's the second one! Is this the third sentence? Yes, it is.\"\"\"\n",
    "\n",
    "# bold sentences in the example text\n",
    "for i in bold_sentences(text):\n",
    "    print(i)\n"
   ]
  },
  {
   "cell_type": "code",
   "execution_count": 7,
   "metadata": {},
   "outputs": [
    {
     "name": "stdout",
     "output_type": "stream",
     "text": [
      "Annotator1\n",
      "Adding coarse annotations...\n",
      "coarse gpt4 [0, 50]\n",
      "50\n",
      "coarse llama [50, 100]\n",
      "50\n",
      "coarse physician [0, 50]\n",
      "50\n",
      "Adding fine annotations...\n",
      "fine gpt4 [50, 100]\n",
      "50\n",
      "fine llama [0, 50]\n",
      "50\n",
      "fine physician [50, 100]\n",
      "50\n",
      "Annotator6\n",
      "Adding coarse annotations...\n",
      "coarse gpt4 [50, 100]\n",
      "50\n",
      "coarse llama [0, 50]\n",
      "50\n",
      "coarse physician [50, 100]\n",
      "50\n",
      "Adding fine annotations...\n",
      "fine gpt4 [0, 50]\n",
      "50\n",
      "fine llama [50, 100]\n",
      "50\n",
      "fine physician [0, 50]\n",
      "50\n",
      "Annotator2\n",
      "Adding coarse annotations...\n",
      "coarse gpt4 [0, 50]\n",
      "50\n",
      "coarse llama [50, 100]\n",
      "50\n",
      "coarse physician [0, 50]\n",
      "50\n",
      "Adding fine annotations...\n",
      "fine gpt4 [50, 100]\n",
      "50\n",
      "fine llama [0, 50]\n",
      "50\n",
      "fine physician [50, 100]\n",
      "50\n",
      "Annotator3\n",
      "Adding coarse annotations...\n",
      "coarse gpt4 [50, 100]\n",
      "50\n",
      "coarse llama [0, 50]\n",
      "50\n",
      "coarse physician [50, 100]\n",
      "50\n",
      "Adding fine annotations...\n",
      "fine gpt4 [0, 50]\n",
      "50\n",
      "fine llama [50, 100]\n",
      "50\n",
      "fine physician [0, 50]\n",
      "50\n",
      "Annotator4\n",
      "Adding coarse annotations...\n",
      "coarse gpt4 [0, 50]\n",
      "50\n",
      "coarse llama [50, 100]\n",
      "50\n",
      "coarse physician [0, 50]\n",
      "50\n",
      "Adding fine annotations...\n",
      "fine gpt4 [50, 100]\n",
      "50\n",
      "fine llama [0, 50]\n",
      "50\n",
      "fine physician [50, 100]\n",
      "50\n",
      "Annotator5\n",
      "Adding coarse annotations...\n",
      "coarse gpt4 [50, 100]\n",
      "50\n",
      "coarse llama [0, 50]\n",
      "50\n",
      "coarse physician [50, 100]\n",
      "50\n",
      "Adding fine annotations...\n",
      "fine gpt4 [0, 50]\n",
      "50\n",
      "fine llama [50, 100]\n",
      "50\n",
      "fine physician [0, 50]\n",
      "50\n"
     ]
    }
   ],
   "source": [
    "flag = 0\n",
    "for annotator in annotators:\n",
    "    \n",
    "    print(annotator)\n",
    "    \n",
    "    if (flag % 2) == 0:\n",
    "        indexes_dictionary = indexes_dict_0\n",
    "    else:\n",
    "        indexes_dictionary = indexes_dict_1\n",
    "        \n",
    "    for annotation_type, answer_types in indexes_dictionary.items():\n",
    "        \n",
    "        print(f'Adding {annotation_type} annotations...', )\n",
    "        \n",
    "        for answer_type, indexes in answer_types.items():\n",
    "            \n",
    "            print(annotation_type, answer_type, indexes)\n",
    "            with open(os.path.join(data_dir, f\"{answer_type}_answers.jsonl\"), 'r', encoding='utf-8') as jsonl_file:\n",
    "                data = [json.loads(line) for line in jsonl_file]\n",
    "            \n",
    "            selection = data[indexes[0]:indexes[1]]\n",
    "            print(len(selection))\n",
    "            \n",
    "            for qa_pair in selection:\n",
    "                \n",
    "                if annotation_type == 'coarse':\n",
    "                    qa_pair['annotation_type'] = annotation_type\n",
    "                    qa_pair['rated'] = 'No'\n",
    "                \n",
    "                    with open(os.path.join(output_dir, f'{annotator.lower()}_{annotation_type}.jsonl'), 'a') as file:\n",
    "                            json.dump(qa_pair, file)\n",
    "                            file.write('\\n')\n",
    "            \n",
    "                if annotation_type == 'fine':\n",
    "                    sentences = bold_sentences(qa_pair['answer'])\n",
    "                    for sentence in sentences:\n",
    "                        new_d = qa_pair\n",
    "                        new_d['annotation_type'] = annotation_type\n",
    "                        new_d['rated'] = 'No'\n",
    "                        new_d['sentence_id'] = new_d['answer_id'] + f'_{sentence[0]}'\n",
    "                        new_d['answer'] = sentence[1]\n",
    "                        with open(os.path.join(output_dir, f'{annotator.lower()}_{annotation_type}.jsonl'), 'a') as file:\n",
    "                            json.dump(new_d, file)\n",
    "                            file.write('\\n')\n",
    "                    \n",
    "\n",
    "    flag += 1"
   ]
  },
  {
   "cell_type": "code",
   "execution_count": 8,
   "metadata": {},
   "outputs": [
    {
     "data": {
      "text/plain": [
       "{'question_id': 'question_49',\n",
       " 'question': 'Does low thyroid contribute to weight gain?',\n",
       " 'answer_id': 'physician_49',\n",
       " 'answer': 'When thyroid function is low, it can lead to a reduction in metabolic rate and modest weight gain. However, this weight gain is typically only around 5-10 pounds and is not commonly associated with severe obesity. Treating and balancing thyroid function can help with weight loss. :orange[If you suspect you have low thyroid function, it is important to consult your healthcare provider for assessment and treatment.]',\n",
       " 'answer_type': 'physician',\n",
       " 'annotation_type': 'fine',\n",
       " 'rated': 'No',\n",
       " 'sentence_id': 'physician_49_3'}"
      ]
     },
     "execution_count": 8,
     "metadata": {},
     "output_type": "execute_result"
    }
   ],
   "source": [
    "new_d"
   ]
  },
  {
   "cell_type": "code",
   "execution_count": 19,
   "metadata": {},
   "outputs": [
    {
     "name": "stdout",
     "output_type": "stream",
     "text": [
      "gpt4_93\n",
      "physician_93\n"
     ]
    }
   ],
   "source": [
    "with open(os.path.join(output_dir, f\"annotator3_coarse.jsonl\"), 'r', encoding='utf-8') as jsonl_file:\n",
    "    data = [json.loads(line) for line in jsonl_file]\n",
    "    \n",
    "for d in data:\n",
    "    if int(d['question_id'].split('_')[1]) == 145:\n",
    "        print(d['answer_id'])"
   ]
  },
  {
   "cell_type": "code",
   "execution_count": null,
   "metadata": {},
   "outputs": [],
   "source": []
  }
 ],
 "metadata": {
  "kernelspec": {
   "display_name": "nlp",
   "language": "python",
   "name": "python3"
  },
  "language_info": {
   "codemirror_mode": {
    "name": "ipython",
    "version": 3
   },
   "file_extension": ".py",
   "mimetype": "text/x-python",
   "name": "python",
   "nbconvert_exporter": "python",
   "pygments_lexer": "ipython3",
   "version": "3.10.14"
  }
 },
 "nbformat": 4,
 "nbformat_minor": 2
}
